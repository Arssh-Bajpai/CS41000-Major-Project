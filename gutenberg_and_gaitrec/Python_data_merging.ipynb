{
 "cells": [
  {
   "cell_type": "markdown",
   "metadata": {},
   "source": [
    "# Gutenberg Gait Database | Script to merge the data with GaitRec data "
   ]
  },
  {
   "cell_type": "code",
   "execution_count": null,
   "metadata": {},
   "outputs": [],
   "source": [
    "# Copyright (C)  2021  Djordje Slijepcevic\n",
    "#\n",
    "# This program is free software: you can redistribute it and/or modify\n",
    "# it under the terms of the GNU General Public License as published by\n",
    "# the Free Software Foundation, either version 3 of the License, or\n",
    "# (at your option) any later version.\n",
    "#\n",
    "# This program is distributed in the hope that it will be useful,\n",
    "# but WITHOUT ANY WARRANTY; without even the implied warranty of\n",
    "# MERCHANTABILITY or FITNESS FOR A PARTICULAR PURPOSE. See the\n",
    "# GNU General Public License for more details.\n",
    "# \n",
    "# You should have received a copy of the GNU General Public License\n",
    "# along with this program. If not, see <http://www.gnu.org/licenses/>."
   ]
  },
  {
   "cell_type": "markdown",
   "metadata": {},
   "source": [
    "### In order to use this notebook, please download the GaitRec dataset from: [GaitRec dataset](https://figshare.com/collections/GaitRec_A_large-scale_ground_reaction_force_dataset_of_healthy_and_impaired_gait/4788012)\n",
    "### For futher information regarding the GaitRec dataset refer to: [GaitRec paper](https://www.nature.com/articles/s41597-020-0481-z)"
   ]
  },
  {
   "cell_type": "code",
   "execution_count": null,
   "metadata": {},
   "outputs": [],
   "source": [
    "import pandas as pd\n",
    "import os\n",
    "import numpy as np"
   ]
  },
  {
   "cell_type": "markdown",
   "metadata": {},
   "source": [
    "### Utility functions"
   ]
  },
  {
   "cell_type": "code",
   "execution_count": null,
   "metadata": {},
   "outputs": [],
   "source": [
    "def add_dataset_id(data):\n",
    "    # for the GaitRec data we will define the dataset ID as 0\n",
    "    data['DATASET_ID'] = 0\n",
    "    return data\n",
    "\n",
    "def make_unique_id(data1, data2):\n",
    "    # SUBJECT_ID and SESSION_ID of data2 are changed to ensure their uniqueness (by adding the\n",
    "    # maximum ID to the IDs of the GaitRec dataset)\n",
    "    \n",
    "    max_id = np.max(data1['SUBJECT_ID'].values)\n",
    "    data2['SUBJECT_ID'] = data2['SUBJECT_ID']+max_id\n",
    "    \n",
    "    max_id = np.max(data1['SESSION_ID'].values)\n",
    "    data2['SESSION_ID'] = data2['SESSION_ID']+max_id\n",
    "    \n",
    "    return data2 \n",
    "\n",
    "def merge_data(data1, data2):\n",
    "    # prior to merging we need to add a DATASET_ID for data2 and change the\n",
    "    # SUBJECT_ID and SESSION_ID to ensure their uniqueness\n",
    "    \n",
    "    data2 = add_dataset_id(data2)\n",
    "    data2 = make_unique_id(data1,data2)\n",
    "    data = pd.concat([data1, data2], ignore_index=True, sort=False)\n",
    "    return data"
   ]
  },
  {
   "cell_type": "markdown",
   "metadata": {},
   "source": [
    "### Gutenberg Gait Database"
   ]
  },
  {
   "cell_type": "code",
   "execution_count": null,
   "metadata": {},
   "outputs": [],
   "source": [
    "# Path to data\n",
    "path = 'GutenbergGaitDatabase/'\n",
    "\n",
    "# Left lower extremity\n",
    "GRF_F_V_PRO_left = pd.read_csv(os.path.join(path,'GRF_F_V_PRO_left.csv'))\n",
    "GRF_F_V_RAW_left = pd.read_csv(os.path.join(path,'GRF_F_V_RAW_left.csv'))\n",
    "\n",
    "GRF_F_AP_PRO_left = pd.read_csv(os.path.join(path,'GRF_F_AP_PRO_left.csv'))\n",
    "GRF_F_AP_RAW_left = pd.read_csv(os.path.join(path,'GRF_F_AP_RAW_left.csv'))\n",
    "\n",
    "GRF_F_ML_PRO_left = pd.read_csv(os.path.join(path,'GRF_F_ML_PRO_left.csv'))\n",
    "GRF_F_ML_RAW_left = pd.read_csv(os.path.join(path,'GRF_F_ML_RAW_left.csv'))\n",
    "\n",
    "GRF_COP_AP_PRO_left = pd.read_csv(os.path.join(path,'GRF_COP_AP_PRO_left.csv'))\n",
    "GRF_COP_AP_RAW_left = pd.read_csv(os.path.join(path,'GRF_COP_AP_RAW_left.csv'))\n",
    "\n",
    "GRF_COP_ML_PRO_left = pd.read_csv(os.path.join(path,'GRF_COP_ML_PRO_left.csv'))\n",
    "GRF_COP_ML_RAW_left = pd.read_csv(os.path.join(path,'GRF_COP_ML_RAW_left.csv'))\n",
    "\n",
    "# Right lower extremity\n",
    "GRF_F_V_PRO_right = pd.read_csv(os.path.join(path,'GRF_F_V_PRO_right.csv'))\n",
    "GRF_F_V_RAW_right = pd.read_csv(os.path.join(path,'GRF_F_V_RAW_right.csv'))\n",
    "\n",
    "GRF_F_AP_PRO_right = pd.read_csv(os.path.join(path,'GRF_F_AP_PRO_right.csv'))\n",
    "GRF_F_AP_RAW_right = pd.read_csv(os.path.join(path,'GRF_F_AP_RAW_right.csv'))\n",
    "\n",
    "GRF_F_ML_PRO_right = pd.read_csv(os.path.join(path,'GRF_F_ML_PRO_right.csv'))\n",
    "GRF_F_ML_RAW_right = pd.read_csv(os.path.join(path,'GRF_F_ML_RAW_right.csv'))\n",
    "\n",
    "GRF_COP_AP_PRO_right = pd.read_csv(os.path.join(path,'GRF_COP_AP_PRO_right.csv'))\n",
    "GRF_COP_AP_RAW_right = pd.read_csv(os.path.join(path,'GRF_COP_AP_RAW_right.csv'))\n",
    "\n",
    "GRF_COP_ML_PRO_right = pd.read_csv(os.path.join(path,'GRF_COP_ML_PRO_right.csv'))\n",
    "GRF_COP_ML_RAW_right = pd.read_csv(os.path.join(path,'GRF_COP_ML_RAW_right.csv'))\n",
    "\n",
    "# Walking Speed\n",
    "GRF_walking_speed = pd.read_csv(os.path.join(path,'GRF_walking_speed.csv')) \n",
    "\n",
    "# Metadata\n",
    "GRF_metadata = pd.read_csv(os.path.join(path,'GRF_metadata.csv'))\n"
   ]
  },
  {
   "cell_type": "markdown",
   "metadata": {},
   "source": [
    "### GaitRec Dataset"
   ]
  },
  {
   "cell_type": "code",
   "execution_count": null,
   "metadata": {},
   "outputs": [],
   "source": [
    "# Path to data\n",
    "path = 'GaitRec/'\n",
    "\n",
    "# Left lower extremity\n",
    "GRF_F_V_PRO_left = merge_data(GRF_F_V_PRO_left, pd.read_csv(os.path.join(path,'GRF_F_V_PRO_left.csv')))\n",
    "GRF_F_V_RAW_left = merge_data(GRF_F_V_RAW_left, pd.read_csv(os.path.join(path,'GRF_F_V_RAW_left.csv')))\n",
    "\n",
    "GRF_F_AP_PRO_left = merge_data(GRF_F_AP_PRO_left, pd.read_csv(os.path.join(path,'GRF_F_AP_PRO_left.csv')))\n",
    "GRF_F_AP_RAW_left = merge_data(GRF_F_AP_RAW_left, pd.read_csv(os.path.join(path,'GRF_F_AP_RAW_left.csv')))\n",
    "\n",
    "GRF_F_ML_PRO_left = merge_data(GRF_F_ML_PRO_left, pd.read_csv(os.path.join(path,'GRF_F_ML_PRO_left.csv')))\n",
    "GRF_F_ML_RAW_left = merge_data(GRF_F_ML_RAW_left, pd.read_csv(os.path.join(path,'GRF_F_ML_RAW_left.csv')))\n",
    "\n",
    "GRF_COP_AP_PRO_left = merge_data(GRF_COP_AP_PRO_left, pd.read_csv(os.path.join(path,'GRF_COP_AP_PRO_left.csv')))\n",
    "GRF_COP_AP_RAW_left = merge_data(GRF_COP_AP_RAW_left, pd.read_csv(os.path.join(path,'GRF_COP_AP_RAW_left.csv')))\n",
    "\n",
    "GRF_COP_ML_PRO_left = merge_data(GRF_COP_ML_PRO_left, pd.read_csv(os.path.join(path,'GRF_COP_ML_PRO_left.csv')))\n",
    "GRF_COP_ML_RAW_left = merge_data(GRF_COP_ML_RAW_left, pd.read_csv(os.path.join(path,'GRF_COP_ML_RAW_left.csv')))\n",
    "\n",
    "# Right lower extremity\n",
    "GRF_F_V_PRO_right = merge_data(GRF_F_V_PRO_right, pd.read_csv(os.path.join(path,'GRF_F_V_PRO_right.csv')))\n",
    "GRF_F_V_RAW_right = merge_data(GRF_F_V_RAW_right, pd.read_csv(os.path.join(path,'GRF_F_V_RAW_right.csv')))\n",
    "\n",
    "GRF_F_AP_PRO_right = merge_data(GRF_F_AP_PRO_right, pd.read_csv(os.path.join(path,'GRF_F_AP_PRO_right.csv')))\n",
    "GRF_F_AP_RAW_right = merge_data(GRF_F_AP_RAW_right, pd.read_csv(os.path.join(path,'GRF_F_AP_RAW_right.csv')))\n",
    "\n",
    "GRF_F_ML_PRO_right = merge_data(GRF_F_ML_PRO_right, pd.read_csv(os.path.join(path,'GRF_F_ML_PRO_right.csv')))\n",
    "GRF_F_ML_RAW_right = merge_data(GRF_F_ML_RAW_right, pd.read_csv(os.path.join(path,'GRF_F_ML_RAW_right.csv')))\n",
    "\n",
    "GRF_COP_AP_PRO_right = merge_data(GRF_COP_AP_PRO_right, pd.read_csv(os.path.join(path,'GRF_COP_AP_PRO_right.csv')))\n",
    "GRF_COP_AP_RAW_right = merge_data(GRF_COP_AP_RAW_right, pd.read_csv(os.path.join(path,'GRF_COP_AP_RAW_right.csv')))\n",
    "\n",
    "GRF_COP_ML_PRO_right = merge_data(GRF_COP_ML_PRO_right, pd.read_csv(os.path.join(path,'GRF_COP_ML_PRO_right.csv')))\n",
    "GRF_COP_ML_RAW_right = merge_data(GRF_COP_ML_RAW_right, pd.read_csv(os.path.join(path,'GRF_COP_ML_RAW_right.csv')))\n",
    "\n",
    "\n",
    "# Walking Speed: is not specified for GaitRec dataset (we will add NaNs for the GaitRec data)\n",
    "GRF_walking_speed = merge_data(GRF_walking_speed, pd.read_csv(os.path.join(path,'GRF_F_V_PRO_left.csv')).iloc[:,0:3])\n",
    "\n",
    "# Metadata\n",
    "GRF_metadata = merge_data(GRF_metadata, pd.read_csv(os.path.join(path,'GRF_metadata.csv')))\n"
   ]
  },
  {
   "cell_type": "markdown",
   "metadata": {},
   "source": [
    "## Processed Data"
   ]
  },
  {
   "cell_type": "markdown",
   "metadata": {},
   "source": [
    "### Left Lower Extremity"
   ]
  },
  {
   "cell_type": "code",
   "execution_count": null,
   "metadata": {},
   "outputs": [],
   "source": [
    "GRF_F_V_PRO_left"
   ]
  },
  {
   "cell_type": "code",
   "execution_count": null,
   "metadata": {},
   "outputs": [],
   "source": [
    "GRF_F_AP_PRO_left"
   ]
  },
  {
   "cell_type": "code",
   "execution_count": null,
   "metadata": {},
   "outputs": [],
   "source": [
    "GRF_F_ML_PRO_left"
   ]
  },
  {
   "cell_type": "code",
   "execution_count": null,
   "metadata": {},
   "outputs": [],
   "source": [
    "GRF_COP_AP_PRO_left"
   ]
  },
  {
   "cell_type": "code",
   "execution_count": null,
   "metadata": {},
   "outputs": [],
   "source": [
    "GRF_COP_ML_PRO_left"
   ]
  },
  {
   "cell_type": "markdown",
   "metadata": {},
   "source": [
    "### Right Lower Extremity"
   ]
  },
  {
   "cell_type": "code",
   "execution_count": null,
   "metadata": {},
   "outputs": [],
   "source": [
    "GRF_F_V_PRO_right"
   ]
  },
  {
   "cell_type": "code",
   "execution_count": null,
   "metadata": {},
   "outputs": [],
   "source": [
    "GRF_F_AP_PRO_right"
   ]
  },
  {
   "cell_type": "code",
   "execution_count": null,
   "metadata": {},
   "outputs": [],
   "source": [
    "GRF_F_ML_PRO_right"
   ]
  },
  {
   "cell_type": "code",
   "execution_count": null,
   "metadata": {},
   "outputs": [],
   "source": [
    "GRF_COP_AP_PRO_right"
   ]
  },
  {
   "cell_type": "code",
   "execution_count": null,
   "metadata": {},
   "outputs": [],
   "source": [
    "GRF_COP_ML_PRO_right"
   ]
  },
  {
   "cell_type": "markdown",
   "metadata": {},
   "source": [
    "## Raw Data"
   ]
  },
  {
   "cell_type": "markdown",
   "metadata": {},
   "source": [
    "### Left Lower Extremity\n"
   ]
  },
  {
   "cell_type": "code",
   "execution_count": null,
   "metadata": {},
   "outputs": [],
   "source": [
    "GRF_F_V_RAW_left"
   ]
  },
  {
   "cell_type": "code",
   "execution_count": null,
   "metadata": {},
   "outputs": [],
   "source": [
    "GRF_F_AP_RAW_left"
   ]
  },
  {
   "cell_type": "code",
   "execution_count": null,
   "metadata": {},
   "outputs": [],
   "source": [
    "GRF_F_ML_RAW_left"
   ]
  },
  {
   "cell_type": "code",
   "execution_count": null,
   "metadata": {},
   "outputs": [],
   "source": [
    "GRF_COP_AP_RAW_left"
   ]
  },
  {
   "cell_type": "code",
   "execution_count": null,
   "metadata": {},
   "outputs": [],
   "source": [
    "GRF_COP_ML_RAW_left"
   ]
  },
  {
   "cell_type": "markdown",
   "metadata": {},
   "source": [
    "### Right Lower Extremity"
   ]
  },
  {
   "cell_type": "code",
   "execution_count": null,
   "metadata": {},
   "outputs": [],
   "source": [
    "GRF_F_V_RAW_right"
   ]
  },
  {
   "cell_type": "code",
   "execution_count": null,
   "metadata": {},
   "outputs": [],
   "source": [
    "GRF_F_AP_RAW_right"
   ]
  },
  {
   "cell_type": "code",
   "execution_count": null,
   "metadata": {},
   "outputs": [],
   "source": [
    "GRF_F_ML_RAW_right"
   ]
  },
  {
   "cell_type": "code",
   "execution_count": null,
   "metadata": {},
   "outputs": [],
   "source": [
    "GRF_COP_AP_RAW_right"
   ]
  },
  {
   "cell_type": "code",
   "execution_count": null,
   "metadata": {
    "scrolled": true
   },
   "outputs": [],
   "source": [
    "GRF_COP_ML_RAW_right"
   ]
  },
  {
   "cell_type": "markdown",
   "metadata": {},
   "source": [
    "## Walking speed"
   ]
  },
  {
   "cell_type": "code",
   "execution_count": null,
   "metadata": {},
   "outputs": [],
   "source": [
    "GRF_walking_speed"
   ]
  },
  {
   "cell_type": "markdown",
   "metadata": {},
   "source": [
    "## Metadata"
   ]
  },
  {
   "cell_type": "code",
   "execution_count": null,
   "metadata": {},
   "outputs": [],
   "source": [
    "GRF_metadata"
   ]
  }
 ],
 "metadata": {
  "kernelspec": {
   "display_name": "Python 3",
   "language": "python",
   "name": "python3"
  },
  "language_info": {
   "codemirror_mode": {
    "name": "ipython",
    "version": 3
   },
   "file_extension": ".py",
   "mimetype": "text/x-python",
   "name": "python",
   "nbconvert_exporter": "python",
   "pygments_lexer": "ipython3",
   "version": "3.7.5"
  },
  "toc": {
   "base_numbering": 1,
   "nav_menu": {},
   "number_sections": false,
   "sideBar": false,
   "skip_h1_title": false,
   "title_cell": "Table of Contents",
   "title_sidebar": "Contents",
   "toc_cell": false,
   "toc_position": {},
   "toc_section_display": false,
   "toc_window_display": false
  }
 },
 "nbformat": 4,
 "nbformat_minor": 2
}
